{
 "cells": [
  {
   "cell_type": "raw",
   "metadata": {},
   "source": [
    "Date: October 2020\n",
    "Objective: Build a Job-Resume Matching System"
   ]
  },
  {
   "cell_type": "code",
   "execution_count": 2,
   "metadata": {},
   "outputs": [],
   "source": [
    "#Create an LinkedIn Profile Extractor\n",
    "#First we extract data features from user profile\n",
    "#Define a similarity measurement to compare features from profile to job description profile\n"
   ]
  },
  {
   "cell_type": "code",
   "execution_count": 4,
   "metadata": {},
   "outputs": [],
   "source": [
    "#retrieve data from PDFs\n",
    "#import the library\n",
    "import PyPDF2\n",
    "from PyPDF2 import PdfFileReader"
   ]
  },
  {
   "cell_type": "code",
   "execution_count": 7,
   "metadata": {},
   "outputs": [],
   "source": [
    "#Creating a pdf file object\n",
    "pdf = open(\"Curriculum Vitae - PDF.pdf\",\"rb\")"
   ]
  },
  {
   "cell_type": "code",
   "execution_count": 8,
   "metadata": {},
   "outputs": [],
   "source": [
    "#creating pdf reader object\n",
    "pdf_reader = PdfFileReader(pdf)#"
   ]
  },
  {
   "cell_type": "code",
   "execution_count": 9,
   "metadata": {},
   "outputs": [
    {
     "name": "stdout",
     "output_type": "stream",
     "text": [
      "2\n"
     ]
    }
   ],
   "source": [
    "#checking number of pages in a pdf file\n",
    "print(pdf_reader.numPages)"
   ]
  },
  {
   "cell_type": "code",
   "execution_count": null,
   "metadata": {},
   "outputs": [],
   "source": [
    "for i in range (pdf_reader.numPages):\n",
    "    page = pdf_reader.getPage(i)\n",
    "    page = page.extractText()\n",
    "    print (page)"
   ]
  },
  {
   "cell_type": "code",
   "execution_count": null,
   "metadata": {},
   "outputs": [],
   "source": [
    "#train the word2vec model\n",
    "model = Word2Vec(documents, size=2, window=4, sg=1, min_count=1, iter=8000)\n",
    "\n",
    "#create a df from the vectors of the all the words in the model\n",
    "vectors = [model.wv[word] for word in model.wv.vocab.keys()]\n",
    "df = pd.DataFrame(vectors, columns=['x', 'y'], index=model.wv.vocab.keys())"
   ]
  },
  {
   "cell_type": "code",
   "execution_count": null,
   "metadata": {},
   "outputs": [],
   "source": [
    "#plot\n",
    "fig = px.scatter(df, x=\"x\", y=\"y\", text=df.index)\n",
    "fig.update_traces(textposition='top center')"
   ]
  }
 ],
 "metadata": {
  "kernelspec": {
   "display_name": "Python 3",
   "language": "python",
   "name": "python3"
  },
  "language_info": {
   "codemirror_mode": {
    "name": "ipython",
    "version": 3
   },
   "file_extension": ".py",
   "mimetype": "text/x-python",
   "name": "python",
   "nbconvert_exporter": "python",
   "pygments_lexer": "ipython3",
   "version": "3.8.3"
  }
 },
 "nbformat": 4,
 "nbformat_minor": 4
}
